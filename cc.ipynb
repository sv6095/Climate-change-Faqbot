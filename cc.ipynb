{
  "nbformat": 4,
  "nbformat_minor": 0,
  "metadata": {
    "colab": {
      "provenance": [],
      "authorship_tag": "ABX9TyNEL1h063oIOPg6bH7Of+nh",
      "include_colab_link": true
    },
    "kernelspec": {
      "name": "python3",
      "display_name": "Python 3"
    },
    "language_info": {
      "name": "python"
    }
  },
  "cells": [
    {
      "cell_type": "markdown",
      "metadata": {
        "id": "view-in-github",
        "colab_type": "text"
      },
      "source": [
        "<a href=\"https://colab.research.google.com/github/sv6095/Climate-change-Faqbot/blob/main/cc.ipynb\" target=\"_parent\"><img src=\"https://colab.research.google.com/assets/colab-badge.svg\" alt=\"Open In Colab\"/></a>"
      ]
    },
    {
      "cell_type": "code",
      "execution_count": null,
      "metadata": {
        "colab": {
          "base_uri": "https://localhost:8080/"
        },
        "id": "TpxL86VuKbRw",
        "outputId": "06e600bc-1c7f-4007-93f5-de6626534e8c",
        "collapsed": true
      },
      "outputs": [
        {
          "output_type": "stream",
          "name": "stdout",
          "text": [
            "Requirement already satisfied: kagglehub in /usr/local/lib/python3.10/dist-packages (0.3.3)\n",
            "Requirement already satisfied: packaging in /usr/local/lib/python3.10/dist-packages (from kagglehub) (24.1)\n",
            "Requirement already satisfied: requests in /usr/local/lib/python3.10/dist-packages (from kagglehub) (2.32.3)\n",
            "Requirement already satisfied: tqdm in /usr/local/lib/python3.10/dist-packages (from kagglehub) (4.66.5)\n",
            "Requirement already satisfied: charset-normalizer<4,>=2 in /usr/local/lib/python3.10/dist-packages (from requests->kagglehub) (3.4.0)\n",
            "Requirement already satisfied: idna<4,>=2.5 in /usr/local/lib/python3.10/dist-packages (from requests->kagglehub) (3.10)\n",
            "Requirement already satisfied: urllib3<3,>=1.21.1 in /usr/local/lib/python3.10/dist-packages (from requests->kagglehub) (2.2.3)\n",
            "Requirement already satisfied: certifi>=2017.4.17 in /usr/local/lib/python3.10/dist-packages (from requests->kagglehub) (2024.8.30)\n",
            "Collecting en-core-web-md==3.7.1\n",
            "  Downloading https://github.com/explosion/spacy-models/releases/download/en_core_web_md-3.7.1/en_core_web_md-3.7.1-py3-none-any.whl (42.8 MB)\n",
            "\u001b[2K     \u001b[90m━━━━━━━━━━━━━━━━━━━━━━━━━━━━━━━━━━━━━━━━\u001b[0m \u001b[32m42.8/42.8 MB\u001b[0m \u001b[31m13.9 MB/s\u001b[0m eta \u001b[36m0:00:00\u001b[0m\n",
            "\u001b[?25hRequirement already satisfied: spacy<3.8.0,>=3.7.2 in /usr/local/lib/python3.10/dist-packages (from en-core-web-md==3.7.1) (3.7.5)\n",
            "Requirement already satisfied: spacy-legacy<3.1.0,>=3.0.11 in /usr/local/lib/python3.10/dist-packages (from spacy<3.8.0,>=3.7.2->en-core-web-md==3.7.1) (3.0.12)\n",
            "Requirement already satisfied: spacy-loggers<2.0.0,>=1.0.0 in /usr/local/lib/python3.10/dist-packages (from spacy<3.8.0,>=3.7.2->en-core-web-md==3.7.1) (1.0.5)\n",
            "Requirement already satisfied: murmurhash<1.1.0,>=0.28.0 in /usr/local/lib/python3.10/dist-packages (from spacy<3.8.0,>=3.7.2->en-core-web-md==3.7.1) (1.0.10)\n",
            "Requirement already satisfied: cymem<2.1.0,>=2.0.2 in /usr/local/lib/python3.10/dist-packages (from spacy<3.8.0,>=3.7.2->en-core-web-md==3.7.1) (2.0.8)\n",
            "Requirement already satisfied: preshed<3.1.0,>=3.0.2 in /usr/local/lib/python3.10/dist-packages (from spacy<3.8.0,>=3.7.2->en-core-web-md==3.7.1) (3.0.9)\n",
            "Requirement already satisfied: thinc<8.3.0,>=8.2.2 in /usr/local/lib/python3.10/dist-packages (from spacy<3.8.0,>=3.7.2->en-core-web-md==3.7.1) (8.2.5)\n",
            "Requirement already satisfied: wasabi<1.2.0,>=0.9.1 in /usr/local/lib/python3.10/dist-packages (from spacy<3.8.0,>=3.7.2->en-core-web-md==3.7.1) (1.1.3)\n",
            "Requirement already satisfied: srsly<3.0.0,>=2.4.3 in /usr/local/lib/python3.10/dist-packages (from spacy<3.8.0,>=3.7.2->en-core-web-md==3.7.1) (2.4.8)\n",
            "Requirement already satisfied: catalogue<2.1.0,>=2.0.6 in /usr/local/lib/python3.10/dist-packages (from spacy<3.8.0,>=3.7.2->en-core-web-md==3.7.1) (2.0.10)\n",
            "Requirement already satisfied: weasel<0.5.0,>=0.1.0 in /usr/local/lib/python3.10/dist-packages (from spacy<3.8.0,>=3.7.2->en-core-web-md==3.7.1) (0.4.1)\n",
            "Requirement already satisfied: typer<1.0.0,>=0.3.0 in /usr/local/lib/python3.10/dist-packages (from spacy<3.8.0,>=3.7.2->en-core-web-md==3.7.1) (0.12.5)\n",
            "Requirement already satisfied: tqdm<5.0.0,>=4.38.0 in /usr/local/lib/python3.10/dist-packages (from spacy<3.8.0,>=3.7.2->en-core-web-md==3.7.1) (4.66.5)\n",
            "Requirement already satisfied: requests<3.0.0,>=2.13.0 in /usr/local/lib/python3.10/dist-packages (from spacy<3.8.0,>=3.7.2->en-core-web-md==3.7.1) (2.32.3)\n",
            "Requirement already satisfied: pydantic!=1.8,!=1.8.1,<3.0.0,>=1.7.4 in /usr/local/lib/python3.10/dist-packages (from spacy<3.8.0,>=3.7.2->en-core-web-md==3.7.1) (2.9.2)\n",
            "Requirement already satisfied: jinja2 in /usr/local/lib/python3.10/dist-packages (from spacy<3.8.0,>=3.7.2->en-core-web-md==3.7.1) (3.1.4)\n",
            "Requirement already satisfied: setuptools in /usr/local/lib/python3.10/dist-packages (from spacy<3.8.0,>=3.7.2->en-core-web-md==3.7.1) (75.1.0)\n",
            "Requirement already satisfied: packaging>=20.0 in /usr/local/lib/python3.10/dist-packages (from spacy<3.8.0,>=3.7.2->en-core-web-md==3.7.1) (24.1)\n",
            "Requirement already satisfied: langcodes<4.0.0,>=3.2.0 in /usr/local/lib/python3.10/dist-packages (from spacy<3.8.0,>=3.7.2->en-core-web-md==3.7.1) (3.4.1)\n",
            "Requirement already satisfied: numpy>=1.19.0 in /usr/local/lib/python3.10/dist-packages (from spacy<3.8.0,>=3.7.2->en-core-web-md==3.7.1) (1.26.4)\n",
            "Requirement already satisfied: language-data>=1.2 in /usr/local/lib/python3.10/dist-packages (from langcodes<4.0.0,>=3.2.0->spacy<3.8.0,>=3.7.2->en-core-web-md==3.7.1) (1.2.0)\n",
            "Requirement already satisfied: annotated-types>=0.6.0 in /usr/local/lib/python3.10/dist-packages (from pydantic!=1.8,!=1.8.1,<3.0.0,>=1.7.4->spacy<3.8.0,>=3.7.2->en-core-web-md==3.7.1) (0.7.0)\n",
            "Requirement already satisfied: pydantic-core==2.23.4 in /usr/local/lib/python3.10/dist-packages (from pydantic!=1.8,!=1.8.1,<3.0.0,>=1.7.4->spacy<3.8.0,>=3.7.2->en-core-web-md==3.7.1) (2.23.4)\n",
            "Requirement already satisfied: typing-extensions>=4.6.1 in /usr/local/lib/python3.10/dist-packages (from pydantic!=1.8,!=1.8.1,<3.0.0,>=1.7.4->spacy<3.8.0,>=3.7.2->en-core-web-md==3.7.1) (4.12.2)\n",
            "Requirement already satisfied: charset-normalizer<4,>=2 in /usr/local/lib/python3.10/dist-packages (from requests<3.0.0,>=2.13.0->spacy<3.8.0,>=3.7.2->en-core-web-md==3.7.1) (3.4.0)\n",
            "Requirement already satisfied: idna<4,>=2.5 in /usr/local/lib/python3.10/dist-packages (from requests<3.0.0,>=2.13.0->spacy<3.8.0,>=3.7.2->en-core-web-md==3.7.1) (3.10)\n",
            "Requirement already satisfied: urllib3<3,>=1.21.1 in /usr/local/lib/python3.10/dist-packages (from requests<3.0.0,>=2.13.0->spacy<3.8.0,>=3.7.2->en-core-web-md==3.7.1) (2.2.3)\n",
            "Requirement already satisfied: certifi>=2017.4.17 in /usr/local/lib/python3.10/dist-packages (from requests<3.0.0,>=2.13.0->spacy<3.8.0,>=3.7.2->en-core-web-md==3.7.1) (2024.8.30)\n",
            "Requirement already satisfied: blis<0.8.0,>=0.7.8 in /usr/local/lib/python3.10/dist-packages (from thinc<8.3.0,>=8.2.2->spacy<3.8.0,>=3.7.2->en-core-web-md==3.7.1) (0.7.11)\n",
            "Requirement already satisfied: confection<1.0.0,>=0.0.1 in /usr/local/lib/python3.10/dist-packages (from thinc<8.3.0,>=8.2.2->spacy<3.8.0,>=3.7.2->en-core-web-md==3.7.1) (0.1.5)\n",
            "Requirement already satisfied: click>=8.0.0 in /usr/local/lib/python3.10/dist-packages (from typer<1.0.0,>=0.3.0->spacy<3.8.0,>=3.7.2->en-core-web-md==3.7.1) (8.1.7)\n",
            "Requirement already satisfied: shellingham>=1.3.0 in /usr/local/lib/python3.10/dist-packages (from typer<1.0.0,>=0.3.0->spacy<3.8.0,>=3.7.2->en-core-web-md==3.7.1) (1.5.4)\n",
            "Requirement already satisfied: rich>=10.11.0 in /usr/local/lib/python3.10/dist-packages (from typer<1.0.0,>=0.3.0->spacy<3.8.0,>=3.7.2->en-core-web-md==3.7.1) (13.9.3)\n",
            "Requirement already satisfied: cloudpathlib<1.0.0,>=0.7.0 in /usr/local/lib/python3.10/dist-packages (from weasel<0.5.0,>=0.1.0->spacy<3.8.0,>=3.7.2->en-core-web-md==3.7.1) (0.20.0)\n",
            "Requirement already satisfied: smart-open<8.0.0,>=5.2.1 in /usr/local/lib/python3.10/dist-packages (from weasel<0.5.0,>=0.1.0->spacy<3.8.0,>=3.7.2->en-core-web-md==3.7.1) (7.0.5)\n",
            "Requirement already satisfied: MarkupSafe>=2.0 in /usr/local/lib/python3.10/dist-packages (from jinja2->spacy<3.8.0,>=3.7.2->en-core-web-md==3.7.1) (3.0.2)\n",
            "Requirement already satisfied: marisa-trie>=0.7.7 in /usr/local/lib/python3.10/dist-packages (from language-data>=1.2->langcodes<4.0.0,>=3.2.0->spacy<3.8.0,>=3.7.2->en-core-web-md==3.7.1) (1.2.1)\n",
            "Requirement already satisfied: markdown-it-py>=2.2.0 in /usr/local/lib/python3.10/dist-packages (from rich>=10.11.0->typer<1.0.0,>=0.3.0->spacy<3.8.0,>=3.7.2->en-core-web-md==3.7.1) (3.0.0)\n",
            "Requirement already satisfied: pygments<3.0.0,>=2.13.0 in /usr/local/lib/python3.10/dist-packages (from rich>=10.11.0->typer<1.0.0,>=0.3.0->spacy<3.8.0,>=3.7.2->en-core-web-md==3.7.1) (2.18.0)\n",
            "Requirement already satisfied: wrapt in /usr/local/lib/python3.10/dist-packages (from smart-open<8.0.0,>=5.2.1->weasel<0.5.0,>=0.1.0->spacy<3.8.0,>=3.7.2->en-core-web-md==3.7.1) (1.16.0)\n",
            "Requirement already satisfied: mdurl~=0.1 in /usr/local/lib/python3.10/dist-packages (from markdown-it-py>=2.2.0->rich>=10.11.0->typer<1.0.0,>=0.3.0->spacy<3.8.0,>=3.7.2->en-core-web-md==3.7.1) (0.1.2)\n",
            "Installing collected packages: en-core-web-md\n",
            "Successfully installed en-core-web-md-3.7.1\n",
            "\u001b[38;5;2m✔ Download and installation successful\u001b[0m\n",
            "You can now load the package via spacy.load('en_core_web_md')\n",
            "\u001b[38;5;3m⚠ Restart to reload dependencies\u001b[0m\n",
            "If you are in a Jupyter or Colab notebook, you may need to restart Python in\n",
            "order to load all the package's dependencies. You can do this by selecting the\n",
            "'Restart kernel' or 'Restart runtime' option.\n"
          ]
        }
      ],
      "source": [
        "!pip install kagglehub\n",
        "!python -m spacy download en_core_web_md\n"
      ]
    },
    {
      "cell_type": "code",
      "source": [
        "import kagglehub\n",
        "\n",
        "\n",
        "path = kagglehub.dataset_download(\"ishgirwan/climate-change-faqs\")\n",
        "\n",
        "print(\"Path to dataset files:\", path)\n"
      ],
      "metadata": {
        "colab": {
          "base_uri": "https://localhost:8080/"
        },
        "id": "hpNC-SgzKf_S",
        "outputId": "99d5473a-71e2-4e9b-e900-4f4ccba4027e",
        "collapsed": true
      },
      "execution_count": null,
      "outputs": [
        {
          "output_type": "stream",
          "name": "stdout",
          "text": [
            "Downloading from https://www.kaggle.com/api/v1/datasets/download/ishgirwan/climate-change-faqs?dataset_version_number=1...\n"
          ]
        },
        {
          "output_type": "stream",
          "name": "stderr",
          "text": [
            "100%|██████████| 166k/166k [00:00<00:00, 27.5MB/s]"
          ]
        },
        {
          "output_type": "stream",
          "name": "stdout",
          "text": [
            "Extracting files...\n",
            "Path to dataset files: /root/.cache/kagglehub/datasets/ishgirwan/climate-change-faqs/versions/1\n"
          ]
        },
        {
          "output_type": "stream",
          "name": "stderr",
          "text": [
            "\n"
          ]
        }
      ]
    },
    {
      "cell_type": "code",
      "source": [
        "\n",
        "faq_file = os.path.join(path, \"climate_change_faqs.csv\")\n",
        "faq_data = pd.read_csv(faq_file)\n",
        "\n"
      ],
      "metadata": {
        "id": "tDK2ig42Kl5P"
      },
      "execution_count": null,
      "outputs": []
    },
    {
      "cell_type": "code",
      "source": [
        "print(faq_data.head())\n",
        "print(\"Columns in the DataFrame:\", faq_data.columns.tolist())"
      ],
      "metadata": {
        "colab": {
          "base_uri": "https://localhost:8080/"
        },
        "id": "sW6FYD0oLMlg",
        "outputId": "b98a4901-74de-4443-dde1-ccab067ad431",
        "collapsed": true
      },
      "execution_count": null,
      "outputs": [
        {
          "output_type": "stream",
          "name": "stdout",
          "text": [
            "                                              source  \\\n",
            "0  https://www.ipcc.ch/site/assets/uploads/2020/0...   \n",
            "1  https://www.ipcc.ch/site/assets/uploads/2020/0...   \n",
            "2  https://www.ipcc.ch/site/assets/uploads/2020/0...   \n",
            "3  https://www.ipcc.ch/site/assets/uploads/2020/0...   \n",
            "4  https://www.ipcc.ch/site/assets/uploads/2020/0...   \n",
            "\n",
            "                                                 faq text_type  \n",
            "0  If Understanding of the Climate System Has Inc...         q  \n",
            "1  The models used to calculate the IPCC’s temper...         a  \n",
            "2               How Do We Know the World Has Warmed?         q  \n",
            "3  Evidence for a warming world comes from multip...         a  \n",
            "4   Have There Been Any Changes in Climate Extremes?         q  \n",
            "Columns in the DataFrame: ['source', 'faq', 'text_type']\n"
          ]
        }
      ]
    },
    {
      "cell_type": "code",
      "source": [
        "import pandas as pd\n",
        "import os\n",
        "import nltk\n",
        "import spacy\n",
        "from nltk.corpus import stopwords\n",
        "from nltk.tokenize import word_tokenize\n",
        "from sklearn.metrics.pairwise import cosine_similarity\n",
        "from sklearn.feature_extraction.text import TfidfVectorizer\n",
        "\n",
        "\n",
        "nltk.download('punkt')\n",
        "nltk.download('stopwords')\n",
        "stop_words = set(stopwords.words('english'))\n",
        "nlp = spacy.load(\"en_core_web_md\")"
      ],
      "metadata": {
        "id": "AxnJP_H5L-Uk",
        "colab": {
          "base_uri": "https://localhost:8080/"
        },
        "collapsed": true,
        "outputId": "1d3e377a-db94-462d-cc4f-49b42acdd98c"
      },
      "execution_count": 26,
      "outputs": [
        {
          "output_type": "stream",
          "name": "stderr",
          "text": [
            "[nltk_data] Downloading package punkt to /root/nltk_data...\n",
            "[nltk_data]   Package punkt is already up-to-date!\n",
            "[nltk_data] Downloading package stopwords to /root/nltk_data...\n",
            "[nltk_data]   Package stopwords is already up-to-date!\n"
          ]
        }
      ]
    },
    {
      "cell_type": "code",
      "source": [
        "questions = faq_data[faq_data['text_type'] == 'q']['faq'].tolist()\n",
        "for idx, question in enumerate(questions, 1):\n",
        "    print(f\"{idx}. {question}\")"
      ],
      "metadata": {
        "colab": {
          "base_uri": "https://localhost:8080/"
        },
        "id": "K3yYCqttv1MV",
        "outputId": "5991cc03-0135-4a79-c26a-31981f4de927"
      },
      "execution_count": null,
      "outputs": [
        {
          "output_type": "stream",
          "name": "stdout",
          "text": [
            "1. If Understanding of the Climate System Has Increased, Why Hasn’t the Range of Temperature Projections Been Reduced?\n",
            "2. How Do We Know the World Has Warmed?\n",
            "3. Have There Been Any Changes in Climate Extremes?\n",
            "4. Is the Ocean Warming?\n",
            "5. Is There Evidence for Changes in the Earth’s Water Cycle?\n",
            "6. How Does Anthropogenic Ocean Acidification Relate to Climate Change?\n",
            "7. How Is Sea Ice Changing in the Arctic and Antarctic?\n",
            "8. Are Glaciers in Mountain Regions Disappearing?\n",
            "9. Is the Sun a Major Driver of Recent Changes in Climate?\n",
            "10. How Unusual is the Current Sea Level Rate of Change?\n",
            "11. Could Rapid Release of Methane and Carbon Dioxide from Thawing Permafrost or Ocean Warming Substantially Increase Warming?\n",
            "12. What Happens to Carbon Dioxide After It Is Emitted into the Atmosphere?\n",
            "13. How Do Clouds Affect Climate and Climate Change?\n",
            "14. How Do Aerosols Affect Climate and Climate Change?\n",
            "15. Could Geoengineering Counteract Climate Change and What Side Effects\n",
            "Might Occur?\n",
            "16. How Important Is Water Vapour to Climate Change?\n",
            "17. Do Improvements in Air Quality Have an Effect on Climate Change?\n",
            "18. Are Climate Models Getting Better, and How Would We Know?\n",
            "19. Climate Is Always Changing. How Do We Determine the Causes of Observed\n",
            "Changes?\n",
            "20. When Will Human Influences on Climate Become Obvious on Local Scales?\n",
            "21. If You Cannot Predict the Weather Next Month, How Can You Predict Climate\n",
            "for the Coming Decade?\n",
            "22. How Do Volcanic Eruptions Affect Climate and Our Ability to Predict Climate?\n",
            "23. Why Are So Many Models and Scenarios Used to Project Climate Change?\n",
            "24. How Will the Earth’s Water Cycle Change?\n",
            "25. What Would Happen to Future Climate if We Stopped Emissions Today?\n",
            "26. Why Does Local Sea Level Change Differ from the Global Average?\n",
            "27. Will the Greenland and Antarctic Ice Sheets Contribute to Sea Level Change over the Rest of the Century?\n",
            "28. How is Climate Change Affecting Monsoons?\n",
            "29. How Are Future Projections in Regional Climate Related to Projections of\n",
            "Global Means?\n",
            "30. Is the ozone hole causing climate change?\n",
            "31. What’s the difference between climate change and global warming?\n",
            "32. Do scientists agree on climate change?\n",
            "33. What’s NASA got to do with climate change?\n",
            "34. What is the greenhouse effect?\n",
            "35. How do we know what greenhouse gas and temperature levels were in the distant past?\n",
            "36. Why does the temperature record shown on your \"Vital Signs\" page begin at 1880?\n",
            "37. Is the Sun causing global warming?\n",
            "38. What’s the difference between weather and climate?\n",
            "39. Is it too late to prevent climate change?\n",
            "40. What do volcanoes have to do with climate change?\n",
            "41. Can you explain the urban heat island effect?\n",
            "42. What happens if the next solar cycle becomes less active? Will we go into a new ice age?\n",
            "43. Has Earth continued to warm since 1998?\n",
            "44. Are the land-based ice sheets in Greenland and Antarctica continuing to lose mass (ice)?\n",
            "45. Which measurement is more accurate: taking Earth’s surface temperature from the ground or from space?\n",
            "46. How are Earth’s mountain glaciers faring in a warming world?\n",
            "47. How is Earth’s sea ice faring in our warming world?\n",
            "48. Is the ocean continuing to warm?\n",
            "49. How might Earth’s atmosphere, land, and ocean systems respond to changes in carbon dioxide over time?\n",
            "50. Can new NASA carbon-to-oxygen conversion technology like MOXIE be used to address climate change?\n",
            "51. If all of Earth's ice melts and flows into the ocean, what would happen to the planet's rotation?\n",
            "52. Is it climate change, global warming, or global climate crisis?\n",
            "53. Is climate change caused by humans?\n",
            "54. What are the main threats of climate change?\n",
            "55. How is climate change affecting animals?\n",
            "56. How is climate change affecting people?\n",
            "57. How is climate change affecting the ocean?\n",
            "58. How is climate change affecting farms and our food?\n",
            "59. Does deforestation contribute to climate change?\n",
            "60. What are solutions to climate change?\n",
            "61. What is TNC doing about climate change?\n",
            "62. What can I do to stop climate change?\n",
            "63. How much renewable energy do we need to stop climate change?\n",
            "64. Can't renewable energy hurt the environment?\n",
            "65. How much time do we have to stop climate change?\n",
            "66. What happens if we do nothing to stop climate change?\n",
            "67. Is it hopeless to stop climate change?\n",
            "68. How do we know global temperatures are rising?\n",
            "69. How have humans caused global temperatures to rise?\n",
            "70. How do natural factors influence the climate? Can they explain climate change?\n",
            "71. What determines how sensitive the planet’s surface temperature is to increasing greenhouse gases?\n",
            "72. This is not the first time the climate has changed. How do we know we’re not just in a natural cycle between Ice Ages?\n",
            "73. How do rising levels of carbon dioxide affect plants and global crop growth?\n",
            "74. How does climate change lead to sea level rise, and how will this impact coastal cities?\n",
            "75. How will climate change impact our society?\n",
            "76. What are the impacts of climate change on the economy?\n",
            "77. How do we meet the Paris Agreement temperature goal?\n",
            "78. Why is it so urgent that we act on climate change now?\n",
            "79. Why do we talk about ‘net-zero’ instead of just ‘zero’ emissions, and what are negative emissions?\n",
            "80. How have the world’s nations agreed to act on climate change?\n",
            "81. Are countries on track to meet the 'well-below 2°C' target in the Paris Agreement?\n",
            "82. Why should the UK take stringent action on climate change, when other countries are larger emitters and do less to reduce their emissions?\n",
            "83. What are the costs and opportunities associated with reducing greenhouse gas emissions?\n",
            "84. How will the costs of achieving net-zero emissions affect consumers in the United Kingdom?\n",
            "85. How do economic models help us understand the costs and benefits of cutting greenhouse gases?\n",
            "86. Why can we not just adapt to climate change? Is that not cheaper than reducing emissions?\n",
            "87. What types of investments are needed to create a zero-carbon, climate-resilient economy and how are they different from current investments?\n",
            "88. Does tackling climate change prevent the reduction of poverty?\n",
            "89. Will acting on climate change cause difficulties for some communities and industries as the economy changes?\n",
            "90. Do we have an ethical obligation to stop climate change?\n",
            "91. Are risks of climate change mostly due to changes in\n",
            "extremes, changes in average climate, or both?\n",
            "92. How much can we say about what society will be like in\n",
            "the future, in order to plan for climate change impacts?\n",
            "93. Why is climate change a particularly difficult challenge\n",
            "for managing risk?\n",
            "94. What are the timeframes for mitigation and adaptation\n",
            "benefits?\n",
            "95. Can science identify thresholds beyond which climate\n",
            "change is dangerous?\n",
            "96. Are we seeing impacts of recent climate change?\n",
            "97. Are the future impacts of climate change only negative?\n",
            "Might there be positive impacts as well?\n",
            "98. What communities are most vulnerable to the impacts\n",
            "of climate change?\n",
            "99. Does climate change cause violent conflicts?\n",
            "100. How are adaptation, mitigation, and sustainable\n",
            "development connected?\n",
            "101. Why is it difficult to be sure of the role of climate\n",
            "change in observed effects on people and ecosystems?\n",
            "102. So, what is climate change?\n",
            "103. What causes climate change?\n",
            "104. How will climate change affect the planet?\n",
            "105. How will climate change affect wildlife?\n",
            "106. How will people be affected by climate change?\n",
            "107. How are people coping with climate change?\n",
            "108. How can I help prevent climate change?\n",
            "109. What is fossil fuel divestment?\n",
            "110. What are the potential impacts of climate change for the UK?\n",
            "111. Extreme weather and climate change: is there a link?\n",
            "112. What is climate finance and where will it come from?\n",
            "113. What is the state of international climate talks?\n",
            "114. Carbon tax v cap-and-trade: which is better?\n",
            "115. Is nuclear power necessary for solving climate change?\n",
            "116. How will climate change impact on fresh water security?\n",
            "117. What's Redd and will it help tackle climate change?\n",
            "118. To what extent could planting trees help solve climate change?\n",
            "119. Will climate change lead to more droughts?\n",
            "120. What's the 'hydrogen economy'?\n",
            "121. Will climate change lead to more flooding?\n",
            "122. Onshore wind energy: what are the pros and cons?\n",
            "123. How will climate change affect food production?\n",
            "124. What is a carbon price and why do we need one?\n",
            "125. What is the 'polluter pays' principle?\n",
            "126. What's energy efficiency and how much can it help cut emissions?\n",
            "127. Are there errors in the IPCC reports?\n",
            "128. Are solar, wind and marine power too intermittent to be useful?\n",
            "129. Why do economists describe climate change as a 'market failure'?\n",
            "130. What is global dimming?\n",
            "131. What's a carbon footprint and how is it worked out?\n",
            "132. Do temperature records reliably show the planet is warming?\n",
            "133. Is there enough time to prevent widespread thawing of permafrost?\n",
            "134. The world's temperature has always changed. What's different now?\n",
            "135. How do we know how warm or cold it was in the past?\n",
            "136. What is permafrost and how does it relate to climate change?\n",
            "137. Is Antarctica getting warmer and gaining ice?\n",
            "138. What are the options for financing climate change adaptation?\n",
            "139. What is climate change adaptation?\n",
            "140. Why does climate change get described as a 'stock-flow' problem?\n",
            "141. How long do greenhouse gases stay in the air?\n",
            "142. Can we rely on computer models to predict future climate change?\n",
            "143. How will climate change affect rainfall?\n",
            "144. If the world is warming, why were the past two winters so cold?\n",
            "145. What is the IPCC?\n",
            "146. What's the target for solving climate change?\n",
            "147. What is thorium and how does it generate power?\n",
            "148. What was the little ice age?\n",
            "149. Why do we need low-carbon energy – and how much is currently produced?\n",
            "150. What are bioenergy and biofuels – and are they a good idea?\n",
            "151. What is the Clean Development Mechanism (CDM)?\n",
            "152. What is emissions trading?\n",
            "153. What is the emissions trading scheme and does it work?\n",
            "154. Are tornadoes affected by climate change?\n",
            "155. Could climate change be a good thing?\n",
            "156. Which industries and activities emit the most carbon?\n",
            "157. What are CO2e and global warming potential (GWP)?\n",
            "158. What are 'outsourced emissions'?\n",
            "159. Is there a scientific consensus on man-made climate change?\n",
            "160. Is the sun causing global warming?\n",
            "161. Can 'peak oil' help slow climate change?\n",
            "162. Will the Gulf Stream slow down, freezing the UK and northern Europe?\n",
            "163. Haven't we had 'global cooling' lately?\n",
            "164. Will climate change cause wars?\n",
            "165. What are the main types of carbon capture and storage technology?\n",
            "166. Will rising seas put cities such as New York and London under water?\n",
            "167. What is the Kyoto protocol and has it made any difference?\n",
            "168. What is carbon capture and storage?\n",
            "169. Are hurricanes getting worse because of global warming?\n",
            "170. When did we discover man-made climate change?\n",
            "171. What is the carbon cycle?\n",
            "172. What are the main man-made greenhouse gases?\n",
            "173. What is geoengineering?\n",
            "174. What is the economic cost of climate change?\n",
            "175. What is the Stern review?\n",
            "176. How do trees and forests relate to climate change?\n",
            "177. How do volcanoes affect the climate?\n",
            "178. What is carbon?\n",
            "179. If water vapour is the key greenhouse gas, why are man-made emissions important?\n",
            "180. What is the greenhouse effect?\n",
            "181. How much warmer will the planet get?\n",
            "182. Climate change: Does a small temperature rise actually matter?\n",
            "183. What are climate change feedback loops?\n",
            "184. Are humans definitely causing global warming?\n",
            "185. Is the world really getting warmer?\n",
            "186. What is climate change?\n",
            "187. If global warming was such a big deal wouldn't governments have sorted it out?\n",
            "188. What exactly is the climate?\n"
          ]
        }
      ]
    },
    {
      "cell_type": "markdown",
      "source": [],
      "metadata": {
        "id": "sbPorPTie3KD"
      }
    },
    {
      "cell_type": "code",
      "source": [
        "questions = faq_data[faq_data['text_type'] == 'q']['faq'].tolist()\n",
        "answers = faq_data[faq_data['text_type'] == 'a']['faq'].tolist()\n",
        "\n",
        "fp = dict(zip(questions, answers))\n",
        "\n",
        "def preprocess_text(text):\n",
        "    tokens = word_tokenize(text.lower())\n",
        "    tokens = [word for word in tokens if word.isalnum() and word not in stop_words]\n",
        "    clean_text = ' '.join(tokens)\n",
        "    doc = nlp(clean_text)\n",
        "    lemmatized_text = ' '.join([token.lemma_ for token in doc])\n",
        "    return lemmatized_text\n",
        "\n",
        "faq_df = pd.DataFrame(list(fp.items()), columns=['question', 'answer'])\n",
        "faq_df['processed_question'] = faq_df['question'].apply(preprocess_text)\n",
        "\n",
        "# TF-IDF vectorizer\n",
        "vectorizer = TfidfVectorizer()\n",
        "faq_vectors = vectorizer.fit_transform(faq_df['processed_question'])\n",
        "\n",
        "def gp(user_query):\n",
        "    processed_query = preprocess_text(user_query)\n",
        "    query_vector = vectorizer.transform([processed_query])\n",
        "    tfidf_scores = cosine_similarity(query_vector, faq_vectors)[0]\n",
        "    user_query_doc = nlp(processed_query)\n",
        "    semantic_scores = [user_query_doc.similarity(nlp(text)) for text in faq_df['processed_question']]\n",
        "\n",
        "    combined_scores = [0.5 * tfidf + 0.5 * semantic for tfidf, semantic in zip(tfidf_scores, semantic_scores)]\n",
        "    best_idx = combined_scores.index(max(combined_scores))\n",
        "\n",
        "    if combined_scores[best_idx] > 0.65:\n",
        "        return faq_df.iloc[best_idx]['answer']\n",
        "    else:\n",
        "        return \"I couldn't find relevant answers for your question,Try asking different question\"\n",
        "\n",
        "\n",
        "def chatbot():\n",
        "    print(\"Hello! I’m Here to Answer your FAQ's. Type 'exit' to end the chat.\")\n",
        "    while True:\n",
        "        user_query = input(\"You: \")\n",
        "        if user_query.lower() == 'exit':\n",
        "            print(\"Chatbot: BYe!\")\n",
        "            break\n",
        "        response = gp(user_query)\n",
        "        print(\"FaqBot:\", response)\n",
        "\n",
        "\n",
        "chatbot()"
      ],
      "metadata": {
        "colab": {
          "base_uri": "https://localhost:8080/"
        },
        "id": "n8uY_43nMwnb",
        "outputId": "efc2c145-d98b-486b-9def-6326654c601d"
      },
      "execution_count": 27,
      "outputs": [
        {
          "name": "stdout",
          "output_type": "stream",
          "text": [
            "Hello! I’m Here to Answer your FAQ's. Type 'exit' to end the chat.\n",
            "You: why does sun cause global warming\n"
          ]
        },
        {
          "output_type": "stream",
          "name": "stderr",
          "text": [
            "<ipython-input-27-aea12cfc23b8>:26: UserWarning: [W008] Evaluating Doc.similarity based on empty vectors.\n",
            "  semantic_scores = [user_query_doc.similarity(nlp(text)) for text in faq_df['processed_question']]\n"
          ]
        },
        {
          "output_type": "stream",
          "name": "stdout",
          "text": [
            "FaqBot: No. The Sun can influence Earth’s climate, but it isn’t responsible for the warming trend we’ve seen over the past few decades.\n",
            "You: does trees and forests play a role in this change\n",
            "FaqBot: Deforestation, and especially the destruction of rainforests, is a hugely significant contributor to climate change. Scientists estimate that forest loss and other changes to the use of land account for around 23% of current man-made CO2 emissions – which equates to 17% of the 100-year warming impact of all current greenhouse-gas emissions.\n",
            "\n",
            "As children are taught at school, trees and other plants absorb CO2 from the air as they grow. Using energy from the sun, they turn the carbon captured from the CO2 molecules into building blocks for their trunks, branches and foliage. This is all part of the carbon cycle.\n",
            "\n",
            "A mature forest doesn't necessarily absorb much more CO2 that it releases, however, because when each tree dies and either rots down or is burned, much of its stored carbon is released once again. In other words, in the context of climate change, the most important thing about mature forests is not that they reduce the amount of CO2 in the air but that they are huge reservoirs of stored carbon. If such a forest is burned or cleared then much of that carbon is released back into the atmosphere, adding to atmospheric CO2 levels.\n",
            "\n",
            "Of course, the same process also works in reverse. If trees are planted where previously there weren't any, they will on soak up CO2 as they grow, reducing the amount of greenhouse gas in the atmosphere. It is thought that trees, plants and other land-based \"carbon sinks\" currently soak up more than a quarter of all the CO2 that humans add to the air each year – though that figure could change as the planet warms.\n",
            "\n",
            "Unsurprisingly, the relationship between trees and local and global temperature is more complicated than the simple question of the greenhouse gases they absorb and emit. Forests have a major impact on local weather systems and can also affect the amount of sunlight absorbed by the planet: a new area of trees in a snowy region may create more warming than cooling overall by darkening the land surface and reducing the amount of sunlight reflected back to space.\n",
            "You: exit\n",
            "Chatbot: BYe!\n"
          ]
        }
      ]
    }
  ]
}